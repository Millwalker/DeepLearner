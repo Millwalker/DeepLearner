{
 "cells": [
  {
   "cell_type": "markdown",
   "id": "f819a69e-72a2-4f06-8d14-ee7fddde06e8",
   "metadata": {},
   "source": [
    "<center><h1>Challenge RNN"
   ]
  },
  {
   "cell_type": "markdown",
   "id": "9bb3b385-0c22-44fe-ab9c-c828b0fe697c",
   "metadata": {},
   "source": [
    "In this challenge, the gaol is to train a classifier for sequences of genetic code.\n",
    "\n",
    "Each sequence is represented by a string of letters [‘A’, ‘C’, ‘G’, ’T’] and belongs to one of five categories/classes labelled [0,…,4].\n",
    "\n",
    "For training purposes, you will find 400 labelled sequences, each of length 400 characters (sequences: **data_x**, labels: **data_y**).\n",
    "\n",
    "To validate your model, you have a further 100 labelled sequences (**val_x**, **val_y**) with 1200 characters each.\n",
    "\n",
    "Finally, you have 250 unlabeled sequences (**test_x**, 2000 characters) which need to be classified.\n",
    "\n",
    "Hint: Training recurrent networks is very expensive! Do not start working on this challenge too late or you might not manage to finish in time.\n",
    "\n",
    "Your task is to train an RNN-based classifier and make a prediction for the missing labels of the test set (**test_x** in the attached archive). Store your prediction as a one-dimensional **numpy.ndarray**, save this array as **prediction.npy**, and upload this file to the whiteboard.\n",
    "\n",
    "To load  the data and save your prediction, please refer to the following code snippet:"
   ]
  },
  {
   "cell_type": "code",
   "execution_count": 1,
   "id": "474982fa-abc6-4b0c-9446-69fa78600c54",
   "metadata": {},
   "outputs": [
    {
     "name": "stdout",
     "output_type": "stream",
     "text": [
      "(400,) <U400\n",
      "(400,) int64\n",
      "(100,) <U1200\n",
      "(100,) int64\n",
      "(250,) <U2000\n"
     ]
    }
   ],
   "source": [
    "import numpy as np\n",
    "\n",
    "with open('rnn-challenge-data.npz', 'rb') as f:\n",
    "    X = np.load(f)\n",
    "    data_x = X['data_x']\n",
    "    data_y = X['data_y']\n",
    "    val_x = X['val_x']\n",
    "    val_y = X['val_y']\n",
    "    test_x = X['test_x']\n",
    "\n",
    "# TRAINING DATA: INPUT (x) AND OUTPUT (y)\n",
    "print(data_x.shape, data_x.dtype)\n",
    "print(data_y.shape, data_y.dtype)\n",
    "\n",
    "# VALIDATION DATA: INPUT (x) AND OUTPUT (y)\n",
    "print(val_x.shape, val_x.dtype)\n",
    "print(val_y.shape, val_y.dtype)\n",
    "\n",
    "# TEST DATA: INPUT (x) ONLY\n",
    "print(test_x.shape, test_x.dtype)"
   ]
  },
  {
   "cell_type": "code",
   "execution_count": 2,
   "id": "21c1adeb-1a35-4b26-81d0-963c91be821d",
   "metadata": {},
   "outputs": [
    {
     "name": "stdout",
     "output_type": "stream",
     "text": [
      "CTAGCTGAGCTACTGAGCTACAGTTGACTGACCAGTCAGTGCTAGCTACTGACAGTCTGACAGTTGACCTGACTGATGACCAGTCTAGCAGTGCTACTAGCTAGGCTACAGTCAGTTGACCAGTCTGACAGTCAGTCTGACTGACAGTCAGTCTAGGCTATGACCTGACTGATGACCTGACTGACTGACAGTCTGACTGATGACGCTATGACCTGACTAGCTAGCAGTTGACTGACCTGACAGTGCTACTAGCAGTTGACCAGTGCTACAGTCTGATGACTGACCTGACAGTCTAGGCTACAGTTGACCTGACAGTCAGTGCTACTGACAGTCTAGTGACCAGTCAGTCAGTTGACCTGACTAGCAGTTGACGCTATGACCAGTCTGACAGTGCTACTAG\n"
     ]
    }
   ],
   "source": [
    "# Printing one for having an idea\n",
    "print(data_x[0])"
   ]
  },
  {
   "cell_type": "markdown",
   "id": "3b6cb7d5-25c9-46cd-872e-04b33d98025f",
   "metadata": {},
   "source": [
    "# Code\n",
    "We could try\n",
    "* Simple RNN\n",
    "* LSTM"
   ]
  },
  {
   "cell_type": "code",
   "execution_count": 3,
   "id": "509aff0c-e2b2-4d89-a412-357684ff0b35",
   "metadata": {},
   "outputs": [],
   "source": [
    "import torch\n",
    "import torch.nn as nn\n",
    "\n",
    "import time\n",
    "import math\n",
    "\n",
    "from tqdm.notebook import tqdm\n",
    "\n",
    "import matplotlib.pyplot as plt"
   ]
  },
  {
   "cell_type": "markdown",
   "id": "9e850389-4d8c-4161-bb26-bd82d9795df0",
   "metadata": {},
   "source": [
    "Here making us of this tutorial : [NLP From Scratch: Classifying Names with a Character level RNN](https://pytorch.org/tutorials/intermediate/char_rnn_classification_tutorial.html) (from Pytorch)\n",
    "\n",
    "## Preparing the data"
   ]
  },
  {
   "cell_type": "code",
   "execution_count": 4,
   "id": "94b13b18-8d09-4864-b5dc-73831d6fa6e1",
   "metadata": {},
   "outputs": [],
   "source": [
    "n_categories = 5              # [0, 1, 2, 3, 4]\n",
    "\n",
    "all_letters = 'ACGT'          # rather than all possible letters through 'string.ascii'\n",
    "n_letters = len(all_letters)"
   ]
  },
  {
   "cell_type": "code",
   "execution_count": 5,
   "id": "da36cca8-7fa4-448a-a3a9-20441bd470af",
   "metadata": {},
   "outputs": [
    {
     "name": "stdout",
     "output_type": "stream",
     "text": [
      "tensor([[1., 0., 0., 0.]])\n",
      "torch.Size([8, 1, 4])\n"
     ]
    }
   ],
   "source": [
    "# Find letter index from all_letters, e.g. \"a\" = 0\n",
    "def letterToIndex(letter):\n",
    "    return all_letters.find(letter)\n",
    "\n",
    "# Just for demonstration, turn a letter into a <1 x n_letters> Tensor\n",
    "def letterToTensor(letter):\n",
    "    tensor = torch.zeros(1, n_letters)\n",
    "    tensor[0][letterToIndex(letter)] = 1\n",
    "    return tensor\n",
    "\n",
    "# Turn a line into a <line_length x 1 x n_letters>,\n",
    "# or an array of one-hot letter vectors\n",
    "def lineToTensor(line):\n",
    "    tensor = torch.zeros(len(line), 1, n_letters)\n",
    "    for li, letter in enumerate(line):\n",
    "        tensor[li][0][letterToIndex(letter)] = 1\n",
    "    return tensor\n",
    "\n",
    "# Testing that everything works\n",
    "print(letterToTensor('A'))\n",
    "print(lineToTensor('ACGTTAGC').size())"
   ]
  },
  {
   "cell_type": "markdown",
   "id": "7898b9ac-d574-4964-9d8e-b36723c81aa2",
   "metadata": {},
   "source": [
    "Turning all the data to tensors:"
   ]
  },
  {
   "cell_type": "code",
   "execution_count": 6,
   "id": "3ff606a4-a9ad-4a6c-89eb-d75529e25c15",
   "metadata": {},
   "outputs": [],
   "source": [
    "data_x_torch = torch.stack([lineToTensor(data_x[i]) for i in range(len(data_x))])\n",
    "val_x_torch = torch.stack([lineToTensor(val_x[i]) for i in range(len(val_x))])\n",
    "test_x_torch = torch.stack([lineToTensor(test_x[i]) for i in range(len(test_x))])\n",
    "\n",
    "data_y_torch = torch.from_numpy(data_y)\n",
    "val_y_torch = torch.from_numpy(val_y)"
   ]
  },
  {
   "cell_type": "markdown",
   "id": "7b642e58-3135-4100-afb7-01090cfcf3ed",
   "metadata": {},
   "source": [
    "## Creating the model\n",
    "\n",
    "What is `n_hidden` useful for? Is it how large is the network at its hidden layer part?"
   ]
  },
  {
   "cell_type": "code",
   "execution_count": 74,
   "id": "14a27ca6-f80b-4aed-961c-96cdd220e146",
   "metadata": {},
   "outputs": [],
   "source": [
    "class RNN(nn.Module):\n",
    "    def __init__(self, input_size, hidden_size, output_size):\n",
    "        super(RNN, self).__init__()\n",
    "\n",
    "        self.hidden_size = hidden_size\n",
    "\n",
    "        self.i2h = nn.Linear(input_size + hidden_size, hidden_size)\n",
    "        self.i2o = nn.Linear(input_size + hidden_size, output_size)\n",
    "        self.softmax = nn.LogSoftmax(dim=1)\n",
    "\n",
    "    def forward(self, input, hidden):\n",
    "        combined = torch.cat((input, hidden), 1)\n",
    "        hidden = self.i2h(combined)\n",
    "        output = self.i2o(combined)\n",
    "        output = self.softmax(output)\n",
    "        return output, hidden\n",
    "\n",
    "    def initHidden(self):\n",
    "        return torch.zeros(1, self.hidden_size)\n",
    "\n",
    "n_hidden = 128\n",
    "rnn = RNN(n_letters, n_hidden, n_categories)"
   ]
  },
  {
   "cell_type": "markdown",
   "id": "588c37ed-470a-411c-8065-7539f14e0781",
   "metadata": {},
   "source": [
    "## Training"
   ]
  },
  {
   "cell_type": "code",
   "execution_count": 75,
   "id": "f6f4fab6-4f99-4e25-b627-1e651fe7d93b",
   "metadata": {},
   "outputs": [
    {
     "name": "stdout",
     "output_type": "stream",
     "text": [
      "tensor([[-1.6499, -1.6228, -1.6302, -1.6709, -1.4845]],\n",
      "       grad_fn=<LogSoftmaxBackward>)\n"
     ]
    }
   ],
   "source": [
    "# Trying with a single letter\n",
    "input = letterToTensor('A')\n",
    "hidden = torch.zeros(1, n_hidden)\n",
    "\n",
    "output, next_hidden = rnn(input, hidden)\n",
    "print(output)"
   ]
  },
  {
   "cell_type": "code",
   "execution_count": 76,
   "id": "25b5b26f-0158-41a6-b43b-0e3afbf2ec67",
   "metadata": {},
   "outputs": [
    {
     "name": "stdout",
     "output_type": "stream",
     "text": [
      "tensor([[-1.5788, -1.5087, -1.6327, -1.6571, -1.6793]],\n",
      "       grad_fn=<LogSoftmaxBackward>)\n"
     ]
    }
   ],
   "source": [
    "# Trying with a sequence\n",
    "input = data_x_torch[0] # first sequence of the training data\n",
    "hidden = torch.zeros(1, n_hidden)\n",
    "\n",
    "output, next_hidden = rnn(input[0], hidden)\n",
    "print(output)"
   ]
  },
  {
   "cell_type": "code",
   "execution_count": 77,
   "id": "5b98d003-d63e-4a15-bea8-0c69ebf0987d",
   "metadata": {},
   "outputs": [
    {
     "name": "stdout",
     "output_type": "stream",
     "text": [
      "1\n"
     ]
    }
   ],
   "source": [
    "# Helper function for classification\n",
    "def categoryFromOutput(output):\n",
    "    _, top_i = output.topk(1)\n",
    "    return top_i[0].item()\n",
    "\n",
    "print(categoryFromOutput(output))"
   ]
  },
  {
   "cell_type": "code",
   "execution_count": 78,
   "id": "8c57886d-2e6a-4594-a37d-95ea3d65fd4e",
   "metadata": {},
   "outputs": [],
   "source": [
    "criterion = nn.NLLLoss()\n",
    "learning_rate = 0.001 # If you set this too high, it might explode. If too low, it might not learn"
   ]
  },
  {
   "cell_type": "markdown",
   "id": "ef47b201-b380-4661-96b2-352ca2b9159f",
   "metadata": {},
   "source": [
    "Here we try to implement now the **teacher forcing** in the training phase. Question: shall the teacher forcing be at a character level or at word level?\n",
    "\n",
    "First we try at a character level:"
   ]
  },
  {
   "cell_type": "code",
   "execution_count": 79,
   "id": "378fddb9-db3f-4a3e-8a4f-39cb1c1300c4",
   "metadata": {},
   "outputs": [],
   "source": [
    "teacher_forcing_ratio = 0.5                # 0 = always teacher forcing, 1 = no teacher forcing\n",
    "\n",
    "def train(category_tensor, line_tensor):\n",
    "    hidden = rnn.initHidden().to(device)\n",
    "\n",
    "    rnn.zero_grad()       # Set all gradients of model to zero\n",
    "\n",
    "    for i in range(line_tensor.size()[0]):\n",
    "#         use_teacher_forcing = True if np.random.random()<0.5 else False\n",
    "        \n",
    "#         if use_teacher_forcing:\n",
    "#             # Rewire\n",
    "#         else:\n",
    "        output, hidden = rnn(line_tensor[i], hidden)\n",
    "    \n",
    "    loss = criterion(output, category_tensor)\n",
    "    loss.backward()\n",
    "\n",
    "    # Add parameters' gradients to their values, multiplied by learning rate\n",
    "    for p in rnn.parameters():\n",
    "        p.data.add_(p.grad.data, alpha=-learning_rate)\n",
    "\n",
    "    return output, loss.item()"
   ]
  },
  {
   "cell_type": "markdown",
   "id": "ef039d7c-18eb-4b1e-8ebb-ce21021f3def",
   "metadata": {},
   "source": [
    "### Using GPU if available"
   ]
  },
  {
   "cell_type": "code",
   "execution_count": 80,
   "id": "4fe1bf91-4889-4636-9659-b0c3e957e013",
   "metadata": {},
   "outputs": [],
   "source": [
    "device = torch.device(\"cuda:0\" if torch.cuda.is_available() else \"cpu\")\n",
    "# print(device) # Assuming that we are on a CUDA machine, this should print a CUDA device:\n",
    "rnn.to(device); # This sends the whole network parameters and buffers to GPU"
   ]
  },
  {
   "cell_type": "code",
   "execution_count": 81,
   "id": "3f409b6a-1468-458c-b338-0a2c8485a373",
   "metadata": {
    "tags": []
   },
   "outputs": [
    {
     "data": {
      "application/vnd.jupyter.widget-view+json": {
       "model_id": "164c614e8734425591767a36a64213d0",
       "version_major": 2,
       "version_minor": 0
      },
      "text/plain": [
       "  0%|          | 0/13 [00:00<?, ?it/s]"
      ]
     },
     "metadata": {},
     "output_type": "display_data"
    },
    {
     "name": "stdout",
     "output_type": "stream",
     "text": [
      "Epoch n°1: Loss = 1.61437704205513\n",
      "Epoch n°2: Loss = 1.6020556017756462\n",
      "Epoch n°3: Loss = 1.5899737989902496\n",
      "Epoch n°4: Loss = 1.577837836444378\n",
      "Epoch n°5: Loss = 1.5653494307398796\n",
      "Epoch n°6: Loss = 1.5521654406189918\n",
      "Epoch n°7: Loss = 1.537831297814846\n",
      "Epoch n°8: Loss = 1.5216340273618698\n",
      "Epoch n°9: Loss = 1.5021603354811668\n",
      "Epoch n°10: Loss = 1.4750711503624916\n",
      "Epoch n°11: Loss = nan\n",
      "Stopping at epoch n°11: loss is nan\n"
     ]
    }
   ],
   "source": [
    "# n_iters = 100000\n",
    "epochs = 13\n",
    "# print_every = 5000\n",
    "# plot_every = 1000\n",
    "\n",
    "\n",
    "\n",
    "# Keep track of losses for plotting\n",
    "current_loss = 0\n",
    "all_losses = []\n",
    "\n",
    "# def timeSince(since):\n",
    "#     now = time.time()\n",
    "#     s = now - since\n",
    "#     m = math.floor(s / 60)\n",
    "#     s -= m * 60\n",
    "#     return '%dm %ds' % (m, s)\n",
    "\n",
    "# start = time.time()\n",
    "\n",
    "# train_ds = torch.utils.data.TensorDataset(data_x_torch, data_y_torch)\n",
    "# train_dl = torch.utils.data.DataLoader(train_ds, batch_size=batch_size, shuffle=True)\n",
    "\n",
    "# for epoch in range(epochs):\n",
    "    \n",
    "#     output, loss = train(category_tensor, line_tensor)\n",
    "#     current_loss += loss\n",
    "\n",
    "\n",
    "for epoch in tqdm(range(1, epochs+1)):\n",
    "    current_loss = 0\n",
    "    \n",
    "    # Goes through the whole dataset:\n",
    "    for category, line_tensor in zip(data_y, data_x_torch):\n",
    "        \n",
    "        # For using GPU; doesn't seem to be speeding-up though\n",
    "        input = line_tensor.to(device)\n",
    "        label = torch.tensor([category]).to(device)\n",
    "        \n",
    "        output, loss = train(label, input)\n",
    "        current_loss += loss\n",
    "    \n",
    "    print(f\"Epoch n°{epoch}: Loss = {current_loss/400}\")\n",
    "    all_losses.append(current_loss / 400)\n",
    "    \n",
    "    # Break the loop if reached a \"nan\", more computing would be unnecessary\n",
    "    if np.isnan(all_losses[-1]):\n",
    "        print(f\"Stopping at epoch n°{epoch}: loss is nan\")\n",
    "        break"
   ]
  },
  {
   "cell_type": "code",
   "execution_count": 82,
   "id": "42d5518c-d08d-4dc6-b41b-93b39742d654",
   "metadata": {},
   "outputs": [
    {
     "data": {
      "image/png": "[encoded data removed]",
      "text/plain": [
       "<Figure size 432x288 with 1 Axes>"
      ]
     },
     "metadata": {
      "needs_background": "light"
     },
     "output_type": "display_data"
    }
   ],
   "source": [
    "# Plotting the loss\n",
    "plt.plot(all_losses)\n",
    "plt.xlabel(\"Epochs\");\n",
    "plt.ylabel(\"Loss\");"
   ]
  },
  {
   "cell_type": "markdown",
   "id": "28f8984d-2d06-4c5c-bd9e-f420359673e0",
   "metadata": {},
   "source": [
    "# Validation\n",
    "\n",
    "We want to see what is our score on the validation set **val_x** with **val_y**."
   ]
  },
  {
   "cell_type": "code",
   "execution_count": 61,
   "id": "0bc5b90e-cca2-425e-bf52-c1eb7805b0ce",
   "metadata": {},
   "outputs": [
    {
     "name": "stdout",
     "output_type": "stream",
     "text": [
      "tensor([[nan, nan, nan, nan, nan]], device='cuda:0',\n",
      "       grad_fn=<LogSoftmaxBackward>)\n",
      "Label for this data: 4\n"
     ]
    }
   ],
   "source": [
    "# Trying to produce 1 prediction\n",
    "i = 0\n",
    "category = val_y_torch[i]\n",
    "line_tensor = val_x_torch[i]\n",
    "\n",
    "input = val_x_torch[0].to(device) # first sequence of the training data\n",
    "hidden = torch.zeros(1, n_hidden).to(device)\n",
    "\n",
    "output, next_hidden = rnn(input[0], hidden)\n",
    "print(output)\n",
    "print(f\"Label for this data: {category}\")"
   ]
  },
  {
   "cell_type": "code",
   "execution_count": null,
   "id": "9643c431-072b-4429-ac04-74988d2ab305",
   "metadata": {},
   "outputs": [],
   "source": [
    "# Then trying to loop and produce all submission for giving a score:\n",
    "for ... in ...:\n",
    "    \n",
    "print(f\"Score over validation dataset: {score:.3f}%\")"
   ]
  },
  {
   "cell_type": "markdown",
   "id": "172cc91d-3d94-49d5-9387-9e3f6f8025b5",
   "metadata": {},
   "source": [
    "# Prediction and submission"
   ]
  },
  {
   "cell_type": "code",
   "execution_count": null,
   "id": "03833523-d7f2-49b4-be57-6ba76002c9f0",
   "metadata": {},
   "outputs": [],
   "source": [
    "# MAKE SURE THAT YOU HAVE THE RIGHT FORMAT\n",
    "assert prediction.ndim == 1\n",
    "assert prediction.shape[0] == 250\n",
    "\n",
    "# AND SAVE EXACTLY AS SHOWN BELOW\n",
    "np.save('prediction.npy', prediction.astype(int))\n",
    "\n",
    "# MAKE SURE THAT THE FILE HAS THE CORRECT FORMAT\n",
    "def validate_prediction_format():\n",
    "    loaded = np.load('prediction.npy')\n",
    "    assert loaded.shape == (250, )\n",
    "    assert loaded.dtype == int\n",
    "    assert (loaded <= 4).all()\n",
    "    assert (loaded >= 0).all()\n",
    "validate_prediction_format()"
   ]
  },
  {
   "cell_type": "markdown",
   "id": "c20e2910-300b-439f-bb5d-65752dfcf1bc",
   "metadata": {},
   "source": [
    "**accuracy** → **points**<br>\n",
    "≥95% → 10<br>\n",
    "≥90% → 7<br>\n",
    "≥85% → 5"
   ]
  }
 ],
 "metadata": {
  "kernelspec": {
   "display_name": "DLenv",
   "language": "python",
   "name": "dlenv"
  },
  "language_info": {
   "codemirror_mode": {
    "name": "ipython",
    "version": 3
   },
   "file_extension": ".py",
   "mimetype": "text/x-python",
   "name": "python",
   "nbconvert_exporter": "python",
   "pygments_lexer": "ipython3",
   "version": "3.9.5"
  }
 },
 "nbformat": 4,
 "nbformat_minor": 5
}
